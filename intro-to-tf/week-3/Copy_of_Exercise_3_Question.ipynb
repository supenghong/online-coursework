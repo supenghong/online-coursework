{
  "nbformat": 4,
  "nbformat_minor": 0,
  "metadata": {
    "colab": {
      "name": "Copy of Exercise 3 - Question.ipynb",
      "version": "0.3.2",
      "provenance": [],
      "collapsed_sections": [],
      "include_colab_link": true
    },
    "kernelspec": {
      "name": "python3",
      "display_name": "Python 3"
    },
    "accelerator": "GPU"
  },
  "cells": [
    {
      "cell_type": "markdown",
      "metadata": {
        "id": "view-in-github",
        "colab_type": "text"
      },
      "source": [
        "<a href=\"https://colab.research.google.com/github/supenghong/online-coursework/blob/master/intro-to-tf/week-3/Copy_of_Exercise_3_Question.ipynb\" target=\"_parent\"><img src=\"https://colab.research.google.com/assets/colab-badge.svg\" alt=\"Open In Colab\"/></a>"
      ]
    },
    {
      "metadata": {
        "id": "iQjHqsmTAVLU",
        "colab_type": "text"
      },
      "cell_type": "markdown",
      "source": [
        "## Exercise 3\n",
        "In the videos you looked at how you would improve Fashion MNIST using Convolutions. For your exercise see if you can improve MNIST to 99.8% accuracy or more using only a single convolutional layer and a single MaxPooling 2D. You should stop training once the accuracy goes above this amount. It should happen in less than 20 epochs, so it's ok to hard code the number of epochs for training, but your training must end once it hits the above metric. If it doesn't, then you'll need to redesign your layers.\n",
        "\n",
        "I've started the code for you -- you need to finish it!\n",
        "\n",
        "When 99.8% accuracy has been hit, you should print out the string \"Reached 99.8% accuracy so cancelling training!\"\n"
      ]
    },
    {
      "metadata": {
        "id": "sfQRyaJWAIdg",
        "colab_type": "code",
        "outputId": "6e3a3e25-9f12-4f78-e40f-64a1a1dd865d",
        "colab": {
          "base_uri": "https://localhost:8080/",
          "height": 368
        }
      },
      "cell_type": "code",
      "source": [
        "import tensorflow as tf\n",
        "\n",
        "class myCallback(tf.keras.callbacks.Callback):\n",
        "  def on_epoch_end(self, epoch, logs = {}):\n",
        "    if (logs.get('acc') >= 0.998):\n",
        "      print(\"]\\nReached 99.8% accuracy so cancelling training!\")\n",
        "      self.model.stop_training = True\n",
        "      \n",
        "callbacks = myCallback()\n",
        "\n",
        "mnist = tf.keras.datasets.mnist\n",
        "\n",
        "(training_images, training_labels), (test_images, test_labels) = mnist.load_data()\n",
        "\n",
        "training_images = training_images.reshape(60000, 28, 28, 1)\n",
        "training_images = training_images/255.0\n",
        "\n",
        "test_images = test_images.reshape(10000, 28, 28, 1)\n",
        "test_images = test_images/255.0\n",
        "\n",
        "model = tf.keras.models.Sequential([tf.keras.layers.Conv2D(filters = 32, kernel_size = (3, 3), activation = 'relu', input_shape = (28, 28, 1)),\n",
        "                                    tf.keras.layers.MaxPooling2D(2, 2),\n",
        "                                    tf.keras.layers.Flatten(),\n",
        "                                    tf.keras.layers.Dense(units = 128, activation = 'relu'),\n",
        "                                    tf.keras.layers.Dense(units = 10, activation = 'softmax')])\n",
        "\n",
        "model.compile(optimizer = 'adam',\n",
        "              loss = 'sparse_categorical_crossentropy',\n",
        "              metrics = ['accuracy'])\n",
        "\n",
        "model.fit(training_images, training_labels, epochs = 20, callbacks = [callbacks])"
      ],
      "execution_count": 0,
      "outputs": [
        {
          "output_type": "stream",
          "text": [
            "Epoch 1/20\n",
            "60000/60000 [==============================] - 10s 169us/sample - loss: 0.1526 - acc: 0.9546\n",
            "Epoch 2/20\n",
            "60000/60000 [==============================] - 7s 119us/sample - loss: 0.0523 - acc: 0.9840\n",
            "Epoch 3/20\n",
            "60000/60000 [==============================] - 7s 118us/sample - loss: 0.0340 - acc: 0.9894\n",
            "Epoch 4/20\n",
            "60000/60000 [==============================] - 6s 106us/sample - loss: 0.0221 - acc: 0.9931\n",
            "Epoch 5/20\n",
            "60000/60000 [==============================] - 6s 107us/sample - loss: 0.0157 - acc: 0.9949\n",
            "Epoch 6/20\n",
            "60000/60000 [==============================] - 6s 106us/sample - loss: 0.0116 - acc: 0.9959\n",
            "Epoch 7/20\n",
            "60000/60000 [==============================] - 7s 118us/sample - loss: 0.0081 - acc: 0.9974\n",
            "Epoch 8/20\n",
            "60000/60000 [==============================] - 7s 116us/sample - loss: 0.0063 - acc: 0.9980\n",
            "Epoch 9/20\n",
            "59744/60000 [============================>.] - ETA: 0s - loss: 0.0052 - acc: 0.9982]\n",
            "Reached 99.8% accuracy so cancelling training!\n",
            "60000/60000 [==============================] - 6s 106us/sample - loss: 0.0052 - acc: 0.9983\n"
          ],
          "name": "stdout"
        },
        {
          "output_type": "execute_result",
          "data": {
            "text/plain": [
              "<tensorflow.python.keras.callbacks.History at 0x7f872eeed9e8>"
            ]
          },
          "metadata": {
            "tags": []
          },
          "execution_count": 3
        }
      ]
    },
    {
      "metadata": {
        "id": "4976KUWY1XY4",
        "colab_type": "code",
        "colab": {}
      },
      "cell_type": "code",
      "source": [
        ""
      ],
      "execution_count": 0,
      "outputs": []
    }
  ]
}