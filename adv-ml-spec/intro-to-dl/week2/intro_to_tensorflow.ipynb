{
  "nbformat": 4,
  "nbformat_minor": 0,
  "metadata": {
    "colab": {
      "name": "intro_to_tensorflow.ipynb",
      "version": "0.3.2",
      "provenance": []
    },
    "kernelspec": {
      "display_name": "Python 3",
      "language": "python",
      "name": "python3"
    }
  },
  "cells": [
    {
      "metadata": {
        "slideshow": {
          "slide_type": "slide"
        },
        "id": "uugEQcIxwXbH",
        "colab_type": "text"
      },
      "cell_type": "markdown",
      "source": [
        "# Intro to TensorFlow\n",
        "\n",
        "This notebook covers the basics of TF and shows you an animation with gradient descent trajectory.\n",
        "<img src=\"https://github.com/hse-aml/intro-to-dl/blob/master/week2/v2/images/gradient_descent.png?raw=1\" style=\"width:50%\">"
      ]
    },
    {
      "metadata": {
        "id": "JVNLvlBewXbR",
        "colab_type": "text"
      },
      "cell_type": "markdown",
      "source": [
        "# TensorBoard"
      ]
    },
    {
      "metadata": {
        "id": "HKZiPNIywXbW",
        "colab_type": "text"
      },
      "cell_type": "markdown",
      "source": [
        "**Plase note that if you are running on the Coursera platform, you won't be able to access the tensorboard instance due to the network setup there.**\n",
        "\n",
        "Run `tensorboard --logdir=./tensorboard_logs --port=7007` in bash.\n",
        "\n",
        "If you run the notebook locally, you should be able to access TensorBoard on http://127.0.0.1:7007/"
      ]
    },
    {
      "metadata": {
        "id": "6zC5dSPAwaH7",
        "colab_type": "code",
        "colab": {
          "base_uri": "https://localhost:8080/",
          "height": 318
        },
        "outputId": "84eab160-bdcd-43ff-bfec-1122070f9de1"
      },
      "cell_type": "code",
      "source": [
        "! shred -u setup_google_colab.py\n",
        "! wget https://raw.githubusercontent.com/hse-aml/intro-to-dl/master/setup_google_colab.py -O setup_google_colab.py\n",
        "import setup_google_colab\n",
        "# please, uncomment the week you're working on\n",
        "# setup_google_colab.setup_week1()\n",
        "setup_google_colab.setup_week2()\n",
        "# setup_google_colab.setup_week3()\n",
        "# setup_google_colab.setup_week4()\n",
        "# setup_google_colab.setup_week5()\n",
        "# setup_google_colab.setup_week6()\n",
        "\n",
        "# If you're using the old version of the course (check a path of notebook on Coursera, you'll see v1 or v2),\n",
        "# use setup_week2_old()."
      ],
      "execution_count": 1,
      "outputs": [
        {
          "output_type": "stream",
          "text": [
            "shred: setup_google_colab.py: failed to open for writing: No such file or directory\n",
            "--2019-04-06 22:26:51--  https://raw.githubusercontent.com/hse-aml/intro-to-dl/master/setup_google_colab.py\n",
            "Resolving raw.githubusercontent.com (raw.githubusercontent.com)... 151.101.0.133, 151.101.64.133, 151.101.128.133, ...\n",
            "Connecting to raw.githubusercontent.com (raw.githubusercontent.com)|151.101.0.133|:443... connected.\n",
            "HTTP request sent, awaiting response... 200 OK\n",
            "Length: 3792 (3.7K) [text/plain]\n",
            "Saving to: ‘setup_google_colab.py’\n",
            "\n",
            "setup_google_colab. 100%[===================>]   3.70K  --.-KB/s    in 0s      \n",
            "\n",
            "2019-04-06 22:26:51 (46.0 MB/s) - ‘setup_google_colab.py’ saved [3792/3792]\n",
            "\n",
            "**************************************************\n",
            "inception_v3_weights_tf_dim_ordering_tf_kernels_notop.h5\n",
            "**************************************************\n",
            "cifar-10-batches-py.tar.gz\n",
            "**************************************************\n",
            "mnist.npz\n"
          ],
          "name": "stdout"
        }
      ]
    },
    {
      "metadata": {
        "id": "MCEWkpsxwXbb",
        "colab_type": "code",
        "colab": {
          "base_uri": "https://localhost:8080/",
          "height": 50
        },
        "outputId": "91ad9fa6-5962-4ef5-a3d5-0b617db359f6"
      },
      "cell_type": "code",
      "source": [
        "import tensorflow as tf\n",
        "import sys\n",
        "sys.path.append(\"../..\")\n",
        "from keras_utils import reset_tf_session\n",
        "s = reset_tf_session()\n",
        "print(\"We're using TF\", tf.__version__)"
      ],
      "execution_count": 2,
      "outputs": [
        {
          "output_type": "stream",
          "text": [
            "Using TensorFlow backend.\n"
          ],
          "name": "stderr"
        },
        {
          "output_type": "stream",
          "text": [
            "We're using TF 1.13.1\n"
          ],
          "name": "stdout"
        }
      ]
    },
    {
      "metadata": {
        "id": "36DCJ1pcwXbp",
        "colab_type": "text"
      },
      "cell_type": "markdown",
      "source": [
        "# Warming up\n",
        "For starters, let's implement a python function that computes the sum of squares of numbers from 0 to N-1."
      ]
    },
    {
      "metadata": {
        "id": "q-dgqSDQwXbs",
        "colab_type": "code",
        "colab": {}
      },
      "cell_type": "code",
      "source": [
        "import numpy as np\n",
        "\n",
        "def sum_python(N):\n",
        "    return np.sum(np.arange(N)**2)"
      ],
      "execution_count": 0,
      "outputs": []
    },
    {
      "metadata": {
        "id": "GYtNL-CrwXbz",
        "colab_type": "code",
        "colab": {
          "base_uri": "https://localhost:8080/",
          "height": 67
        },
        "outputId": "5dd1b94c-2733-41a8-b18f-7fcfa66458a1"
      },
      "cell_type": "code",
      "source": [
        "%%time\n",
        "sum_python(10**5)"
      ],
      "execution_count": 4,
      "outputs": [
        {
          "output_type": "stream",
          "text": [
            "CPU times: user 2.11 ms, sys: 1.04 ms, total: 3.15 ms\n",
            "Wall time: 2.41 ms\n"
          ],
          "name": "stdout"
        },
        {
          "output_type": "execute_result",
          "data": {
            "text/plain": [
              "333328333350000"
            ]
          },
          "metadata": {
            "tags": []
          },
          "execution_count": 4
        }
      ]
    },
    {
      "metadata": {
        "id": "85n-EdjbwXb5",
        "colab_type": "text"
      },
      "cell_type": "markdown",
      "source": [
        "# Tensoflow teaser\n",
        "\n",
        "Doing the very same thing"
      ]
    },
    {
      "metadata": {
        "id": "rp4EhM_PwXb7",
        "colab_type": "code",
        "colab": {}
      },
      "cell_type": "code",
      "source": [
        "# An integer parameter\n",
        "N = tf.placeholder('int64', name=\"input_to_your_function\")\n",
        "\n",
        "# A recipe on how to produce the same result\n",
        "result = tf.reduce_sum(tf.range(N)**2)"
      ],
      "execution_count": 0,
      "outputs": []
    },
    {
      "metadata": {
        "id": "w3SXlc6JwXcA",
        "colab_type": "code",
        "colab": {
          "base_uri": "https://localhost:8080/",
          "height": 33
        },
        "outputId": "f1e39095-4759-43e0-b4ca-8dc3bc3aadb2"
      },
      "cell_type": "code",
      "source": [
        "# just a graph definition\n",
        "result"
      ],
      "execution_count": 6,
      "outputs": [
        {
          "output_type": "execute_result",
          "data": {
            "text/plain": [
              "<tf.Tensor 'Sum:0' shape=() dtype=int64>"
            ]
          },
          "metadata": {
            "tags": []
          },
          "execution_count": 6
        }
      ]
    },
    {
      "metadata": {
        "id": "k3Lo7JyTwXcG",
        "colab_type": "code",
        "colab": {
          "base_uri": "https://localhost:8080/",
          "height": 67
        },
        "outputId": "42b23ffa-1b3c-466d-fe5c-606536184efd"
      },
      "cell_type": "code",
      "source": [
        "%%time\n",
        "# actually executing\n",
        "result.eval({N: 10**5})"
      ],
      "execution_count": 7,
      "outputs": [
        {
          "output_type": "stream",
          "text": [
            "CPU times: user 7.77 ms, sys: 2.62 ms, total: 10.4 ms\n",
            "Wall time: 53.3 ms\n"
          ],
          "name": "stdout"
        },
        {
          "output_type": "execute_result",
          "data": {
            "text/plain": [
              "333328333350000"
            ]
          },
          "metadata": {
            "tags": []
          },
          "execution_count": 7
        }
      ]
    },
    {
      "metadata": {
        "id": "xp_wi3JwwXcO",
        "colab_type": "code",
        "colab": {}
      },
      "cell_type": "code",
      "source": [
        "# logger for tensorboard\n",
        "writer = tf.summary.FileWriter(\"tensorboard_logs\", graph=s.graph)"
      ],
      "execution_count": 0,
      "outputs": []
    },
    {
      "metadata": {
        "id": "K_MrQNEcwXcU",
        "colab_type": "text"
      },
      "cell_type": "markdown",
      "source": [
        "# How does it work?\n",
        "1. Define placeholders where you'll send inputs\n",
        "2. Make a symbolic graph: a recipe for mathematical transformation of those placeholders\n",
        "3. Compute outputs of your graph with particular values for each placeholder\n",
        "  * `output.eval({placeholder: value})`\n",
        "  * `s.run(output, {placeholder: value})`\n",
        "\n",
        "So far there are two main entities: \"placeholder\" and \"transformation\" (operation output)\n",
        "* Both can be numbers, vectors, matrices, tensors, etc.\n",
        "* Both can be int32/64, floats, booleans (uint8) of various size.\n",
        "\n",
        "* You can define new transformations as an arbitrary operation on placeholders and other transformations\n",
        " * `tf.reduce_sum(tf.arange(N)**2)` are 3 sequential transformations of placeholder `N`\n",
        " * There's a tensorflow symbolic version for every numpy function\n",
        "   * `a+b, a/b, a**b, ...` behave just like in numpy\n",
        "   * `np.mean` -> `tf.reduce_mean`\n",
        "   * `np.arange` -> `tf.range`\n",
        "   * `np.cumsum` -> `tf.cumsum`\n",
        "   * If you can't find the operation you need, see the [docs](https://www.tensorflow.org/versions/r1.3/api_docs/python).\n",
        "   \n",
        "`tf.contrib` has many high-level features, may be worth a look."
      ]
    },
    {
      "metadata": {
        "id": "Y0LlRWqxwXcW",
        "colab_type": "code",
        "colab": {}
      },
      "cell_type": "code",
      "source": [
        "with tf.name_scope(\"Placeholders_examples\"):\n",
        "    # Default placeholder that can be arbitrary float32\n",
        "    # scalar, vertor, matrix, etc.\n",
        "    arbitrary_input = tf.placeholder('float32')\n",
        "\n",
        "    # Input vector of arbitrary length\n",
        "    input_vector = tf.placeholder('float32', shape=(None,))\n",
        "\n",
        "    # Input vector that _must_ have 10 elements and integer type\n",
        "    fixed_vector = tf.placeholder('int32', shape=(10,))\n",
        "\n",
        "    # Matrix of arbitrary n_rows and 15 columns\n",
        "    # (e.g. a minibatch of your data table)\n",
        "    input_matrix = tf.placeholder('float32', shape=(None, 15))\n",
        "    \n",
        "    # You can generally use None whenever you don't need a specific shape\n",
        "    input1 = tf.placeholder('float64', shape=(None, 100, None))\n",
        "    input2 = tf.placeholder('int32', shape=(None, None, 3, 224, 224))\n",
        "\n",
        "    # elementwise multiplication\n",
        "    double_the_vector = input_vector*2\n",
        "\n",
        "    # elementwise cosine\n",
        "    elementwise_cosine = tf.cos(input_vector)\n",
        "\n",
        "    # difference between squared vector and vector itself plus one\n",
        "    vector_squares = input_vector**2 - input_vector + 1"
      ],
      "execution_count": 0,
      "outputs": []
    },
    {
      "metadata": {
        "id": "CP-y0_cGwXcc",
        "colab_type": "code",
        "colab": {}
      },
      "cell_type": "code",
      "source": [
        "my_vector =  tf.placeholder('float32', shape=(None,), name=\"VECTOR_1\")\n",
        "my_vector2 = tf.placeholder('float32', shape=(None,))\n",
        "my_transformation = my_vector * my_vector2 / (tf.sin(my_vector) + 1)"
      ],
      "execution_count": 0,
      "outputs": []
    },
    {
      "metadata": {
        "id": "6M_3LFiQwXcg",
        "colab_type": "code",
        "colab": {
          "base_uri": "https://localhost:8080/",
          "height": 33
        },
        "outputId": "24f4b533-af47-4337-8da3-f0c7b14b668d"
      },
      "cell_type": "code",
      "source": [
        "print(my_transformation)"
      ],
      "execution_count": 11,
      "outputs": [
        {
          "output_type": "stream",
          "text": [
            "Tensor(\"truediv:0\", shape=(?,), dtype=float32)\n"
          ],
          "name": "stdout"
        }
      ]
    },
    {
      "metadata": {
        "id": "CutGOWs6wXcl",
        "colab_type": "code",
        "colab": {
          "base_uri": "https://localhost:8080/",
          "height": 67
        },
        "outputId": "472a18de-6fc7-4dd9-934d-c3a572795819"
      },
      "cell_type": "code",
      "source": [
        "dummy = np.arange(5).astype('float32')\n",
        "print(dummy)\n",
        "my_transformation.eval({my_vector: dummy, my_vector2: dummy[::-1]})"
      ],
      "execution_count": 12,
      "outputs": [
        {
          "output_type": "stream",
          "text": [
            "[0. 1. 2. 3. 4.]\n"
          ],
          "name": "stdout"
        },
        {
          "output_type": "execute_result",
          "data": {
            "text/plain": [
              "array([0.       , 1.6291324, 2.0950115, 2.6289961, 0.       ],\n",
              "      dtype=float32)"
            ]
          },
          "metadata": {
            "tags": []
          },
          "execution_count": 12
        }
      ]
    },
    {
      "metadata": {
        "id": "3WDYmOYiwXcp",
        "colab_type": "code",
        "colab": {}
      },
      "cell_type": "code",
      "source": [
        "writer.add_graph(my_transformation.graph)\n",
        "writer.flush()"
      ],
      "execution_count": 0,
      "outputs": []
    },
    {
      "metadata": {
        "id": "4PfLNkeowXct",
        "colab_type": "text"
      },
      "cell_type": "markdown",
      "source": [
        "TensorBoard allows writing scalars, images, audio, histogram. You can read more on tensorboard usage [here](https://www.tensorflow.org/get_started/graph_viz)."
      ]
    },
    {
      "metadata": {
        "id": "Say1F12IwXcw",
        "colab_type": "text"
      },
      "cell_type": "markdown",
      "source": [
        "# Summary\n",
        "* Tensorflow is based on computation graphs\n",
        "* A graph consists of placeholders and transformations"
      ]
    },
    {
      "metadata": {
        "id": "4vI5Vg2SwXcy",
        "colab_type": "text"
      },
      "cell_type": "markdown",
      "source": [
        "# Loss function: Mean Squared Error\n",
        "\n",
        "Loss function must be a part of the graph as well, so that we can do backpropagation."
      ]
    },
    {
      "metadata": {
        "id": "3W31DzU4wXc0",
        "colab_type": "code",
        "colab": {}
      },
      "cell_type": "code",
      "source": [
        "with tf.name_scope(\"MSE\"):\n",
        "    y_true = tf.placeholder(\"float32\", shape=(None,), name=\"y_true\")\n",
        "    y_predicted = tf.placeholder(\"float32\", shape=(None,), name=\"y_predicted\")\n",
        "    # Implement MSE(y_true, y_predicted), use tf.reduce_mean(...)\n",
        "    mse = tf.reduce_mean((y_true - y_predicted)**2)\n",
        "\n",
        "def compute_mse(vector1, vector2):\n",
        "    return mse.eval({y_true: vector1, y_predicted: vector2})"
      ],
      "execution_count": 0,
      "outputs": []
    },
    {
      "metadata": {
        "id": "3P_sQDSQwXc5",
        "colab_type": "code",
        "colab": {}
      },
      "cell_type": "code",
      "source": [
        "writer.add_graph(mse.graph)\n",
        "writer.flush()"
      ],
      "execution_count": 0,
      "outputs": []
    },
    {
      "metadata": {
        "id": "kTN0ByyBwXc_",
        "colab_type": "code",
        "colab": {}
      },
      "cell_type": "code",
      "source": [
        "# Rigorous local testing of MSE implementation\n",
        "import sklearn.metrics\n",
        "for n in [1, 5, 10, 10**3]:\n",
        "    elems = [np.arange(n), np.arange(n, 0, -1), np.zeros(n),\n",
        "             np.ones(n), np.random.random(n), np.random.randint(100, size=n)]\n",
        "    for el in elems:\n",
        "        for el_2 in elems:\n",
        "            true_mse = np.array(sklearn.metrics.mean_squared_error(el, el_2))\n",
        "            my_mse = compute_mse(el, el_2)\n",
        "            if not np.allclose(true_mse, my_mse):\n",
        "                print('mse(%s,%s)' % (el, el_2))\n",
        "                print(\"should be: %f, but your function returned %f\" % (true_mse, my_mse))\n",
        "                raise ValueError('Wrong result')"
      ],
      "execution_count": 0,
      "outputs": []
    },
    {
      "metadata": {
        "id": "H8XJ-kqcwXdH",
        "colab_type": "text"
      },
      "cell_type": "markdown",
      "source": [
        "# Variables\n",
        "\n",
        "Placeholder and transformation values are not stored in the graph once the execution is finished. This isn't too comfortable if you want your model to have parameters (e.g. network weights) that are always present, but can change their value over time.\n",
        "\n",
        "Tensorflow solves this with `tf.Variable` objects.\n",
        "* You can assign variable a value at any time in your graph\n",
        "* Unlike placeholders, there's no need to explicitly pass values to variables when `s.run(...)`-ing\n",
        "* You can use variables the same way you use transformations \n",
        " "
      ]
    },
    {
      "metadata": {
        "id": "PqC3lL_EwXdK",
        "colab_type": "code",
        "colab": {
          "base_uri": "https://localhost:8080/",
          "height": 87
        },
        "outputId": "f4669611-0054-4b1d-c3f1-877e294e2ad8"
      },
      "cell_type": "code",
      "source": [
        "# Creating a shared variable\n",
        "shared_vector_1 = tf.Variable(initial_value=np.ones(5),\n",
        "                              name=\"example_variable\")"
      ],
      "execution_count": 18,
      "outputs": [
        {
          "output_type": "stream",
          "text": [
            "WARNING:tensorflow:From /usr/local/lib/python3.6/dist-packages/tensorflow/python/framework/op_def_library.py:263: colocate_with (from tensorflow.python.framework.ops) is deprecated and will be removed in a future version.\n",
            "Instructions for updating:\n",
            "Colocations handled automatically by placer.\n"
          ],
          "name": "stdout"
        }
      ]
    },
    {
      "metadata": {
        "id": "ZEGzXzahwXdT",
        "colab_type": "code",
        "colab": {
          "base_uri": "https://localhost:8080/",
          "height": 33
        },
        "outputId": "dc4277ec-8622-4c6d-b1b4-ef7df640df83"
      },
      "cell_type": "code",
      "source": [
        "# Initialize variable(s) with initial values\n",
        "s.run(tf.global_variables_initializer())\n",
        "\n",
        "# Evaluating the shared variable\n",
        "print(\"Initial value\", s.run(shared_vector_1))"
      ],
      "execution_count": 19,
      "outputs": [
        {
          "output_type": "stream",
          "text": [
            "Initial value [1. 1. 1. 1. 1.]\n"
          ],
          "name": "stdout"
        }
      ]
    },
    {
      "metadata": {
        "id": "Rn643DqgwXdZ",
        "colab_type": "code",
        "colab": {
          "base_uri": "https://localhost:8080/",
          "height": 33
        },
        "outputId": "7c6bb106-a357-40f2-c7b5-d521102fbeef"
      },
      "cell_type": "code",
      "source": [
        "# Setting a new value\n",
        "s.run(shared_vector_1.assign(np.arange(5)))\n",
        "\n",
        "# Getting that new value\n",
        "print(\"New value\", s.run(shared_vector_1))"
      ],
      "execution_count": 20,
      "outputs": [
        {
          "output_type": "stream",
          "text": [
            "New value [0. 1. 2. 3. 4.]\n"
          ],
          "name": "stdout"
        }
      ]
    },
    {
      "metadata": {
        "id": "deFahXpiwXdg",
        "colab_type": "text"
      },
      "cell_type": "markdown",
      "source": [
        "# tf.gradients - why graphs matter\n",
        "* Tensorflow can compute derivatives and gradients automatically using the computation graph\n",
        "* True to its name it can manage matrix derivatives\n",
        "* Gradients are computed as a product of elementary derivatives via the chain rule:\n",
        "\n",
        "$$ {\\partial f(g(x)) \\over \\partial x} = {\\partial f(g(x)) \\over \\partial g(x)}\\cdot {\\partial g(x) \\over \\partial x} $$\n",
        "\n",
        "It can get you the derivative of any graph as long as it knows how to differentiate elementary operations"
      ]
    },
    {
      "metadata": {
        "id": "q4hJajv7wXdi",
        "colab_type": "code",
        "colab": {}
      },
      "cell_type": "code",
      "source": [
        "my_scalar = tf.placeholder('float32')\n",
        "\n",
        "scalar_squared = my_scalar**2\n",
        "\n",
        "# A derivative of scalar_squared by my_scalar\n",
        "derivative = tf.gradients(scalar_squared, [my_scalar, ])"
      ],
      "execution_count": 0,
      "outputs": []
    },
    {
      "metadata": {
        "id": "vD6l8lzBwXdq",
        "colab_type": "code",
        "colab": {
          "base_uri": "https://localhost:8080/",
          "height": 33
        },
        "outputId": "44f2aea2-9e39-449b-bfd4-c178c749722a"
      },
      "cell_type": "code",
      "source": [
        "derivative"
      ],
      "execution_count": 22,
      "outputs": [
        {
          "output_type": "execute_result",
          "data": {
            "text/plain": [
              "[<tf.Tensor 'gradients/pow_1_grad/Reshape:0' shape=<unknown> dtype=float32>]"
            ]
          },
          "metadata": {
            "tags": []
          },
          "execution_count": 22
        }
      ]
    },
    {
      "metadata": {
        "id": "nDQGcYM1wXdx",
        "colab_type": "code",
        "colab": {
          "base_uri": "https://localhost:8080/",
          "height": 265
        },
        "outputId": "e4c1af06-289e-4f35-d78a-d7ab49d2a94d"
      },
      "cell_type": "code",
      "source": [
        "import matplotlib.pyplot as plt\n",
        "%matplotlib inline\n",
        "\n",
        "x = np.linspace(-3, 3)\n",
        "x_squared, x_squared_der = s.run([scalar_squared, derivative[0]],\n",
        "                                 {my_scalar:x})\n",
        "\n",
        "plt.plot(x, x_squared,label=\"$x^2$\")\n",
        "plt.plot(x, x_squared_der, label=r\"$\\frac{dx^2}{dx}$\")\n",
        "plt.legend();"
      ],
      "execution_count": 23,
      "outputs": [
        {
          "output_type": "display_data",
          "data": {
            "image/png": "[encoded data removed]",
            "text/plain": [
              "<Figure size 432x288 with 1 Axes>"
            ]
          },
          "metadata": {
            "tags": []
          }
        }
      ]
    },
    {
      "metadata": {
        "id": "tNdPY6cPwXd3",
        "colab_type": "text"
      },
      "cell_type": "markdown",
      "source": [
        "# Why that rocks"
      ]
    },
    {
      "metadata": {
        "id": "0te4f8khwXd4",
        "colab_type": "code",
        "colab": {
          "base_uri": "https://localhost:8080/",
          "height": 87
        },
        "outputId": "6b7d798f-b5b9-43da-9638-b5f21dbcfe53"
      },
      "cell_type": "code",
      "source": [
        "my_vector = tf.placeholder('float32', [None])\n",
        "# Compute the gradient of the next weird function over my_scalar and my_vector\n",
        "# Warning! Trying to understand the meaning of that function may result in permanent brain damage\n",
        "weird_psychotic_function = tf.reduce_mean(\n",
        "    (my_vector+my_scalar)**(1+tf.nn.moments(my_vector,[0])[1]) + \n",
        "    1./ tf.atan(my_scalar))/(my_scalar**2 + 1) + 0.01*tf.sin(\n",
        "    2*my_scalar**1.5)*(tf.reduce_sum(my_vector)* my_scalar**2\n",
        "                      )*tf.exp((my_scalar-4)**2)/(\n",
        "    1+tf.exp((my_scalar-4)**2))*(1.-(tf.exp(-(my_scalar-4)**2)\n",
        "                                    )/(1+tf.exp(-(my_scalar-4)**2)))**2\n",
        "\n",
        "der_by_scalar = tf.gradients(weird_psychotic_function, my_scalar)\n",
        "der_by_vector = tf.gradients(weird_psychotic_function, my_vector)"
      ],
      "execution_count": 24,
      "outputs": [
        {
          "output_type": "stream",
          "text": [
            "WARNING:tensorflow:From /usr/local/lib/python3.6/dist-packages/tensorflow/python/ops/math_ops.py:3066: to_int32 (from tensorflow.python.ops.math_ops) is deprecated and will be removed in a future version.\n",
            "Instructions for updating:\n",
            "Use tf.cast instead.\n"
          ],
          "name": "stdout"
        }
      ]
    },
    {
      "metadata": {
        "id": "UOiQgYSFwXd_",
        "colab_type": "code",
        "colab": {
          "base_uri": "https://localhost:8080/",
          "height": 265
        },
        "outputId": "8cf1c998-6de1-4883-a7b4-91fc21b5c813"
      },
      "cell_type": "code",
      "source": [
        "# Plotting the derivative\n",
        "scalar_space = np.linspace(1, 7, 100)\n",
        "\n",
        "y = [s.run(weird_psychotic_function, {my_scalar:x, my_vector:[1, 2, 3]})\n",
        "     for x in scalar_space]\n",
        "\n",
        "plt.plot(scalar_space, y, label='function')\n",
        "\n",
        "y_der_by_scalar = [s.run(der_by_scalar,\n",
        "                         {my_scalar:x, my_vector:[1, 2, 3]})\n",
        "                   for x in scalar_space]\n",
        "\n",
        "plt.plot(scalar_space, y_der_by_scalar, label='derivative')\n",
        "plt.grid()\n",
        "plt.legend();"
      ],
      "execution_count": 25,
      "outputs": [
        {
          "output_type": "display_data",
          "data": {
            "image/png": "[encoded data removed]",
            "text/plain": [
              "<Figure size 432x288 with 1 Axes>"
            ]
          },
          "metadata": {
            "tags": []
          }
        }
      ]
    },
    {
      "metadata": {
        "id": "z-RsKVwIwXeE",
        "colab_type": "text"
      },
      "cell_type": "markdown",
      "source": [
        "# Almost done - optimizers\n",
        "\n",
        "While you can perform gradient descent by hand with automatic gradients from above, tensorflow also has some optimization methods implemented for you. Recall momentum & rmsprop?"
      ]
    },
    {
      "metadata": {
        "id": "CYZl6XMqwXeG",
        "colab_type": "code",
        "colab": {}
      },
      "cell_type": "code",
      "source": [
        "y_guess = tf.Variable(np.zeros(2, dtype='float32'))\n",
        "y_true = tf.range(1, 3, dtype='float32')\n",
        "\n",
        "loss = tf.reduce_mean((y_guess - y_true + 0.5*tf.random_normal([2]))**2) \n",
        "\n",
        "step = tf.train.MomentumOptimizer(0.03, 0.5).minimize(loss, var_list=y_guess)"
      ],
      "execution_count": 0,
      "outputs": []
    },
    {
      "metadata": {
        "id": "7IX8RckCwXeM",
        "colab_type": "text"
      },
      "cell_type": "markdown",
      "source": [
        "Let's draw a trajectory of a gradient descent in 2D"
      ]
    },
    {
      "metadata": {
        "id": "5-Fb97tOwXeO",
        "colab_type": "code",
        "colab": {
          "base_uri": "https://localhost:8080/",
          "height": 269
        },
        "outputId": "3a8efb6c-d986-4ea9-b449-a28ba38e9243"
      },
      "cell_type": "code",
      "source": [
        "from matplotlib import animation, rc\n",
        "import matplotlib_utils\n",
        "from IPython.display import HTML, display_html\n",
        "\n",
        "# nice figure settings\n",
        "fig, ax = plt.subplots()\n",
        "y_true_value = s.run(y_true)\n",
        "level_x = np.arange(0, 2, 0.02)\n",
        "level_y = np.arange(0, 3, 0.02)\n",
        "X, Y = np.meshgrid(level_x, level_y)\n",
        "Z = (X - y_true_value[0])**2 + (Y - y_true_value[1])**2\n",
        "ax.set_xlim(-0.02, 2)\n",
        "ax.set_ylim(-0.02, 3)\n",
        "s.run(tf.global_variables_initializer())\n",
        "ax.scatter(*s.run(y_true), c='red')\n",
        "contour = ax.contour(X, Y, Z, 10)\n",
        "ax.clabel(contour, inline=1, fontsize=10)\n",
        "line, = ax.plot([], [], lw=2)\n",
        "\n",
        "# start animation with empty trajectory\n",
        "def init():\n",
        "    line.set_data([], [])\n",
        "    return (line,)\n",
        "\n",
        "trajectory = [s.run(y_guess)]\n",
        "\n",
        "# one animation step (make one GD step)\n",
        "def animate(i):\n",
        "    s.run(step)\n",
        "    trajectory.append(s.run(y_guess))\n",
        "    line.set_data(*zip(*trajectory))\n",
        "    return (line,)\n",
        "\n",
        "anim = animation.FuncAnimation(fig, animate, init_func=init,\n",
        "                               frames=100, interval=20, blit=True)"
      ],
      "execution_count": 27,
      "outputs": [
        {
          "output_type": "display_data",
          "data": {
            "image/png": "[encoded data removed]",
            "text/plain": [
              "<Figure size 432x288 with 1 Axes>"
            ]
          },
          "metadata": {
            "tags": []
          }
        }
      ]
    },
    {
      "metadata": {
        "id": "Tg1XxrQOwXeS",
        "colab_type": "code",
        "colab": {
          "base_uri": "https://localhost:8080/",
          "height": 308
        },
        "outputId": "16fe1aff-1d3c-4c56-a294-9b813da82bdd"
      },
      "cell_type": "code",
      "source": [
        "try:\n",
        "    display_html(HTML(anim.to_html5_video()))\n",
        "except (RuntimeError, KeyError):\n",
        "    # In case the build-in renderers are unaviable, fall back to\n",
        "    # a custom one, that doesn't require external libraries\n",
        "    anim.save(None, writer=matplotlib_utils.SimpleMovieWriter(0.001))"
      ],
      "execution_count": 28,
      "outputs": [
        {
          "output_type": "display_data",
          "data": {
            "text/html": [
              "<video width=\"432\" height=\"288\" controls autoplay loop>\n",
              "  <source type=\"video/mp4\" src=\"data:video/mp4;base64,AAAAHGZ0eXBNNFYgAAACAGlzb21pc28yYXZjMQAAAAhmcmVlAAA3em1kYXQAAAKuBgX//6rcRem9\n",
              "5tlIt5Ys2CDZI+7veDI2NCAtIGNvcmUgMTUyIHIyODU0IGU5YTU5MDMgLSBILjI2NC9NUEVHLTQg\n",
              "QVZDIGNvZGVjIC0gQ29weWxlZnQgMjAwMy0yMDE3IC0gaHR0cDovL3d3dy52aWRlb2xhbi5vcmcv\n",
              "eDI2NC5odG1sIC0gb3B0aW9uczogY2FiYWM9MSByZWY9MyBkZWJsb2NrPTE6MDowIGFuYWx5c2U9\n",
              "MHgzOjB4MTEzIG1lPWhleCBzdWJtZT03IHBzeT0xIHBzeV9yZD0xLjAwOjAuMDAgbWl4ZWRfcmVm\n",
              "PTEgbWVfcmFuZ2U9MTYgY2hyb21hX21lPTEgdHJlbGxpcz0xIDh4OGRjdD0xIGNxbT0wIGRlYWR6\n",
              "b25lPTIxLDExIGZhc3RfcHNraXA9MSBjaHJvbWFfcXBfb2Zmc2V0PS0yIHRocmVhZHM9MyBsb29r\n",
              "YWhlYWRfdGhyZWFkcz0xIHNsaWNlZF90aHJlYWRzPTAgbnI9MCBkZWNpbWF0ZT0xIGludGVybGFj\n",
              "ZWQ9MCBibHVyYXlfY29tcGF0PTAgY29uc3RyYWluZWRfaW50cmE9MCBiZnJhbWVzPTMgYl9weXJh\n",
              "bWlkPTIgYl9hZGFwdD0xIGJfYmlhcz0wIGRpcmVjdD0xIHdlaWdodGI9MSBvcGVuX2dvcD0wIHdl\n",
              "aWdodHA9MiBrZXlpbnQ9MjUwIGtleWludF9taW49MjUgc2NlbmVjdXQ9NDAgaW50cmFfcmVmcmVz\n",
              "aD0wIHJjX2xvb2thaGVhZD00MCByYz1jcmYgbWJ0cmVlPTEgY3JmPTIzLjAgcWNvbXA9MC42MCBx\n",
              "cG1pbj0wIHFwbWF4PTY5IHFwc3RlcD00IGlwX3JhdGlvPTEuNDAgYXE9MToxLjAwAIAAACDqZYiE\n",
              "ACv//vZzfAprRzOVLgV292aj5dCS5fsQYPrQAAADAAGq1jzipe3VQKWF7ETjRY3cHV5T/gtXlZ/+\n",
              "2d18I+r0/kFTKXlNaLcNEzFrZwhQJf4uAACr610vBjVHtP1Nj8TKjLJsw7zEGekryix2mXv6D5sZ\n",
              "/xuVL1Zm9+ev0HB8K4dZNPqZpZjmnOt7QZ/LDpfpWAyPTERkVYbV8JPy/A3VniRgRrGJ/S9BGF6n\n",
              "UtP+ypBQY6D5wKv+5XUTiS16k1YvdhnpmR+39Wk0N/Dhi1PE+6vr7iqSNNWR9T54RCdqT4Nxp66X\n",
              "iH3KeDmBVXqVxZB3TJ1IGEE5cY9I0NknNsUUwqijFrHhIWcbKoqiOHcyXwfoDx0dln/LDpaRWEv9\n",
              "S7xCcwgUsK2p6Mt8U98PBT9Wzw806NyFhTG4lcVYj9+RxVCZ9aYamVNbyAF3uAhnNbQ6mz/kU32D\n",
              "8alq+oWPljAokjxp4PkxfxKsV+PfaUcgHn8Ih7u0ESWxO8yGoAYEeF5klx30VhIYc+fE4E1PeBvj\n",
              "zPjIEC9ZSr71Z/GdBKw4yQ3eIMUB8+91A3kYzvm6s+icwLmJG89T2YNZfjDL+67kXYKAK+iijTfS\n",
              "y7FnJNPGMMuHOclCOOK60fxCTGvDnvZ70NKJYuYT3Q7VxFeNjVrUqR1ZXpE6y4HM9rVdtULhDGZh\n",
              "lisjR1ueuSMTeJk2NHGzppZLNuzp0la5w26Nj9rPXbDhrxOltQAbXfhhzHzxsfvnb1NViQkbNf8N\n",
              "i6b5j43pr5KPX/yN0pEuNQ6J9/Vf+N0+UyylAiuc6kXIIdJT+81DqB8G0aW1hB5ycJ3drYkpmXz/\n",
              "jcT0DmMNN1/qhP57SNQMzeWnyVVUbWdkNXJHIZ71XlyQu0Q3/vLhp6oC0twVPMWelyD86RAy5Kv8\n",
              "fTIX0tfAXt4BT/PO2YqjQOmMkNHCbWwni2QvW/jiWb+Gr7uzcD1LOvZLKwIX0fL7T8DoAu1qqVUl\n",
              "LJjdW9PXS+lK05SJyoVOqrB+vqBToV3os2VU9jxKYZ+4vgewmEvWZYsKwILGjFcEvs+tbRCsRX41\n",
              "Z67c/h6lAYhLQHbRSeMXFGIQe682z4VDxgAoDKiOKEgEtK7+HaCaR1qSsEzQnqopuHwZuWPfnn6V\n",
              "v36s9ZpJjFTD65IEAcCyIcJadJRWLgGQ0H9inRPWFdBT0h7/NmJSf1y3PFq5+CvMEu7tgWhHFEVv\n",
              "5ZhEfhI2KsQz4tqtUaasHespUDCVbJuH7fJlHLN8wxEXgEOpQ5BEgkGexX2jfcT8Y6zrZ4EZ3fNz\n",
              "SEfgYLVBZb2zcMgbcb0M/G3RrMHzPP5nxM/lCAykLksWpMtpO8F22Jd7WT8p5w/bNH+aDRrgGI6z\n",
              "dpEQoVqAqnFy7kqn9fRSxOfkqqJ56t7xNX8tTm39sMzXaOu7DxiccF1G9gKr769uoBs19mguwEh9\n",
              "ibBLO8lknJEbQWek4ghWRrVrE6D4eEw6nr0lQtgtbo5Dor6DwS+iIDrHP20DYo5bIaqGZPqwycIi\n",
              "JfKAZLxif9AKbNcqHX5nsqXvbrif1XiYBt/wmZX1B7EaOZQ7reJdePRsqsk4+xDA8qfRV+XZotyJ\n",
              "ZMuJY0ea1alDjuze85EfouH8ZSP1rtpvrHfPGX1Ew1zWSlNWYLH7ceO/YxX8j2TieJgZfSWFo/7T\n",
              "xKxHNPj4v74vmTHkdrM/qdr7hD82JT7nIW8+CiLwKDKfEZqTj1SILOgfCxQwvGv0j4XJCzym4uE9\n",
              "EUNmVtxi1nkLmzLB2/wT8HvckABTJUyZbQNZmSXy6iPwfwn5oERukdcSp19xPpTPWtyrW23IushY\n",
              "bv53m7WcUHVp0u5QVMwaES5swcRToB+VixHwqAxW1yydd3lAzOY0w5lLAUrmtZ7U87FZmBoKLC+v\n",
              "QwJ93CuGOL9SwsVTO9e9mpKiWMYb8KYNf91gJhGTfOL+CG+/pZL6hiCU/7WN+uqvEPWkfgByrsDI\n",
              "uPHGb1FVVt3l+51Ok+6+rJFEBvvLpFvkcwxh2th7Zh3cJrrNt2ZQdV/Elvve9nfubvGVzRluTBDG\n",
              "9zjg/RYy8JQt8AFfMxTBsGUFISFIlRVO1p9OLFdRg8OIkhLzYm1CyBlIq+lF/eJxa22USuEM1NpK\n",
              "Eo3mZbwtEtU94z2uPJvs172uCai7IK4kXclXBfvNJaHxAXN6oNneDwk123SV86yjmV240NLqk4j1\n",
              "/EnYPAvMUg1PPSl0gvJFDjWtjVy8OUeEQep9+mC3RdvEJaG+nYAA3iTEX3Z1PhRTgWYw3XJ24/Cf\n",
              "tCgIkKgX/nZIbrOIEY5C31ebOg2sTwIZ6xFaU9KWt5kdK0Ke5K5yyhUA2wUW7Mz097IoIN3HP2vr\n",
              "esYMvK/SLipz5n9pzsgAU8bSztAc3Q46PEQZDnzhhVt3UO9ClqlKO29E8ro4UP8iDYGX9uvdKJA8\n",
              "EEUjWLcqrwkC8D4ZCkzmqZm6nSfqfRlN8vKVehIyYzn/ygnbLinQHa/OB3JFIF8WzqV6/blPi1Mp\n",
              "JFv5EQy8GRnfWMlmA3ePzNidm0nkvUzw1SJLgot03HAM6jmmD+V1MDxlk9+7dl7ndct8v1WeMmcx\n",
              "6S3KfDUolocLUuAFK6nnzuOrM3G+l5hrMK8spnQuw0P2/qBU7UL9yM209mYWXdBF0SRRVv8NA4Iy\n",
              "5Er7ZM8ptUpDp7NXiCbmOObGy4qZifhNQHggOg/HlcZSX/0qFcw6uB0nmoZ+jDNqYE966qLYyrgb\n",
              "x4RGlRdHriMiEfu/s83bQc5JnRGDKGBD2ITzJ+Nqu9ogViEcA+s63ohmxYZ5UUVYuTAVadll5RAT\n",
              "dBYmBVRmrI/mr//chDsRq0S+htV9BvR0ocUg6Oo2Xcum8n+8Ttahf4932XUQsgFP44fRljxan8ki\n",
              "mA4/QU14hPqGESQCCCFjHevWt5Wr1cGzleITwO9HZgK8XjogzsSiwNSSnJtWbAyWQJxtqNZQ270F\n",
              "3XXuPa+BhCIftJsbEx4ES2NKVrTZxR5tFSrm0nS4fJAFV3CtsroDf+slQE80pCBKnVx4BY5OUM0k\n",
              "ThSTh2NERhwjknXNSNB1jRUFHzz/bq1HaoGF1TVBw9JbHcBLRtE731SISOpJgmr0EaxOqo5W96nu\n",
              "dDzU3+N7c4mp2ibL01NJCLrc8QoKNPawCBPvpB07gtejINhTu8x6/DQ8KJNSmiAPbGPTGaZw3suu\n",
              "cDtdDFB8WUp4lUNEC72WG981eHK5wQw6l0vAomACVuIPUjdJ+yPftwRiO530/seLNt49yOlSrD77\n",
              "HdnH6jpM62L5pyynXc3k+kJncfJKbfIJRihR2mnAMWzX7cS8dBwW8okyPbEOo7E/F/5gcETcTamg\n",
              "jSnWhfOaklzI+D/s4DKx011cFkmS/xa4ULNnCM19gQIEYkkxbMCE2Rg1kvl64IXyfoVBJ/JVhT1A\n",
              "y368Vr5n34zcpWzUOZc1sH41rOpwhF8ClCPO+m/Idpu/Ki/po9Lp0PxRNwN3w+Fd8cPfXvnfhI8p\n",
              "3Y8iC9a/SM5NQluCGystJacnyVEZon3OBL4cdsj6pYiOXR1nCXwx4nzLSQenqvigTVtR+7kRpuP9\n",
              "gpyuwnDqlzFd/o6o8aCZnKwb4Uh9gf3rvtJaL2ycFnoSZ5nzNArCzpdG5FoKrXwD4P8TyEQQ6tHt\n",
              "1QcFSouJaP7AItWyrwEiH2kCj1Ef8TsZxwMA6Hc7UwO/8cUHelxSIs6htPsFYUapcQ5SzwSd1nvp\n",
              "auKvYaTB9lA//dgZf8LxqjM6SxDnVAHe9FS8IQaI5bCyuXKNU6dBjeh/5Z2FfbrAmUWNYhhFpV4Y\n",
              "7RNeCO/0haZao3OR+SGQ/s6j0bXrH2H4l1an2BXOl3845jmfHSCf9jt8mCndtmx9Flvhl2W/u/ZD\n",
              "2fZlaAJNSpSxPYix3gx2ki0phO8YcH8ygPZIMH06jfUqbzVcgvBKRCmQxIobJyrn72N3HTqMuM6G\n",
              "RJNm7prSch1JsSlhHhPIq9UKAp20UmSX5G9AMgePBZ3aYCjWduJ2WtW5S8OD3OJLKrufCptDjuxH\n",
              "rFHOXqKTh25JTWOjEQ+u4E0d8B2TVLOa7xc4qU238PLmrFQzZCu6grIdCVjmW09rFBV6eN62kI26\n",
              "z8EWdRBorMajcOPM+GaC75ZB5Cv74pSY5k0tZbwMJvmGvG2CD6G4UQ2/OZiO7iQeTPI4oUu0waze\n",
              "ZNJnBEwCtdoDo6b1Vkiaj/3j9OHY/zBSs+pHR90SrS9grTWrM5lQ91+O0BG+zPx6ggZamjtyFovV\n",
              "KTDmmDqJ/2Zs8Fkh1jXi57nR+bplr4fOsJFLpO3i1m265mnlK6yBoftNhzyiXezuN1//i/cCfqjA\n",
              "tbHODOBkivKAdA3tsx1Cw71qei4bIH77ebhjI2ck1Eg/mYkj87dvSNCFUKKx/cSbp8XC3xblItai\n",
              "uNIUCOQFi8HUmDAuRPGXPoJpgMrW9h8Y0oL3JZUdjQktVDgCk4NXtjF1hlmOfLCVogqYTESJz59h\n",
              "ay1AsPssoFS4x3DRNoG95b84hvHi52XS2jTxWpev0l6P/VVfi/FcUCAAgaZnNJcGG7oMG5bIBRAo\n",
              "95DHlPZbeDw69wwAAdGsC2TNYpH55W8bF6ELoeqojkt8e+aeUhjO8qi7wJ5pcQZBcWniW0TgSvJi\n",
              "yBXV8Nd7dnXwNsvhRrGaxTAq2nrtSPIJeVaX9Ydzxf/p6V5EgpTu041N6BN0i299xJigY9HBnCUl\n",
              "WyCY7muNJnoBju2/VPdJDCjIp23KhXnbe4B1jL89Fgy2FzX5ZDBUSU+aALiPBR5KbW7L2EmxSO9n\n",
              "K8hPOtq3D8uXZpW2VcXXJiNvML+KJrq603dCII9D+fAx+JEGQtckhaIrOdjxWr5gm8sJXm4/rBmw\n",
              "CQUNgNyZwQt+Wnz+nGIkLYUwYvkt4dFPNHHGWTNPCFpVSHZ+8zjhgLQr8GfnnhhQwVb4a5MtRZQt\n",
              "WerNvdYH4UnuE35vhUsYZD6/h2FagABnPyBcPUn8ZYGD9cVJMUUASe4PyFEZ2Oxu5hcn6I1z7PKG\n",
              "hQ66AWmPK1zEYiNxtxB+sHFB2/1ySXXcgDt4fcRzFqcLLUejf5cNOJWEF/P6/GO4uX43GpGoVHHg\n",
              "vrfFgJ4iGVEaFUg45r3991z4/5RIL9d2rZjFz61hoxpfqEEbi1ZMoQ2XJaUX87spI1JZfIa+hlQJ\n",
              "ylf/1HqJu8HlJ5bGMJmtYv9LeqjL6eIFOycb8nVDZ3gsbUDMb/pI97Yh4NugkyAMK+s0ZboHgxuf\n",
              "xQZcHhn2AfSksdXNy9g11L4TYbv+cVqDEGVjCOneqcrsqE8+xbSYVQVPVNNaWbzixufJsLJA9l72\n",
              "x65GGEv1DlNibGTBOmGtxdQvxWGx3da1aGPeokDjadLqjul2ezlX4ey/98FiJvJFiU4CkdS0Uldu\n",
              "ZjlhG/jzzeupwwSwGMCDI0Vx+rmx7zb3yUb0xXYBz4kkAapTLyqvDJIas9E85SABjEuRd1AiuoW5\n",
              "HebU1gakfIgfH1oVxEYEX/yJ1sL/yhWDRR7WnKIGlPqQ0EnEcmCizGdNd32j2rDciqYrawvExwv7\n",
              "RjzPFUjX3OX46zhompKctKSrKoODvfhbC9/BMSoXVk81ct2rgWsm98P67xgCZN2mqgudH8hOMRvq\n",
              "1qlhBR2lrcy0G6P5FXTO2IbhOTTcWmIRdLBuCcCYDV1RItIhu2a+SpTEJTAgAeuOoGDCHw+2RPfB\n",
              "cwAOxwJSP3ZwGxWRCjeu2YPsRoXnESi7SBaPVBRDWAkcr9JrfaJ7SsqlMJa3TboTCrLzTe6BT7C1\n",
              "N2UybtEy2Fu7ey+cd90wYXQQz9SMr4KwI3gqSfZsRsGmWniAOnhdv7yRPOEdcpteUag4zVhdv3Mp\n",
              "0QPsEDZEbg4VjSzud6m0k0Y1Lp2zJ5Vti0wGQ+JwwbFhbxTULnrX5EL8kw03whFpmr2FhNyB0bGq\n",
              "kx67mGFUN1Fff3fADuQpanW21+v/83LMj5lcXSYkf0PQ/mtHseIB80CdK9whKHGo2OyBo6k5UZEJ\n",
              "dde0Pnpbu7kwGq7SVcR/8Y+lj4U0wkrufKVT/clmbF+kz8m2fTOLhbNz31W6FiJ9O58LolVLBjXi\n",
              "1ncNl8UyamLljBsOtnhtM5HjkU07TJZZ4y0Ip2bmTo4RyQWJFBY1pUZef+lG6nrA4/Qd4np/oLSA\n",
              "AJLF2au/bvAVgyEVdyRkJyvbfBlGmdX1ENVyf8ELzraHg5u6HBICnWY9V2TouvZ6HLxoddO4+FDO\n",
              "zhG6WqSMatglwszASF5MFDvZFGLfRw/733bP0O1iENonqYykIWotzUF0VhReizQtZJ9kAyy7ST2J\n",
              "HjiJ7cBhvGWoOXoiT94sOKgR2G3xy/rmU5K/fMFRKxGF6s/Ana+gjP4XXWAh/kALIlDYpHRc9547\n",
              "kNrPx0VbyB9tbpZMQdAzXv5ifEi/PgDZsr7vl0ZepRxU4srTndfAf004/dOgBPeuR4t3wr5FxcVs\n",
              "JroTNHT3LFFBWW5LUnlJ4bi4YsGzvuMuM6NiWV853t2gjdGuT5qW1sp4QXBrAIHhlVtS2Jj5yJxo\n",
              "0Ang3QOfoat3Sa/Fbxbynp0UWT2V9rgLxS9PIN8BHpYaWI0jAO4SH+DSMdyBpbnQynzpVaBbFu25\n",
              "yzgzHQl2wKaTCRQjWIEs8sVyLswLJZVTHfJLeVyqPqWLmwD8jSKxwz0aKgIDOrCJn/ldH6uFvIHN\n",
              "1qYocfrRSYVeHcgdtn81vSnP17kldPLOSH1EG6R8C4VaK5YnvFEk5Pp3gfzPqDZTkLgrb6sOr8rs\n",
              "6VHBQNIjUapvfgQShdRgtwbTQBRVx7KuFQ5zXN+M1yTOk0lppsvT8OAoepBhRmIBAnXIELYHFytc\n",
              "S+2bBWlWAZzIV59QgWUFCM/bRtILWIgWyyefvSNUh0iaHA8PQxxkhepggWW5BOymnvQkiLTnoO3e\n",
              "095UHMgKQnfjACb//eZ/s5qZq5maU4DiRcv2x3xV+AmOKSQzYVlX9M92QUyHWcelmExa2YFocZxf\n",
              "kAqmk/8Cix0gqmYzfyB5xhviWo4fxSZWWepcHEZ25Ow7n/9x4QxppmCmzw73DSuT2e4L2Xc9oFsh\n",
              "DKiOYWmVUOMj8EnPrsv6cHg/Y4s81asUgUfPjwTwJAoqY9egjN+hLs85ofgRoVhAKE6ur0OfR3Wl\n",
              "0i185WRybH9ebRbH0PQ7Vvrwc9swPqYsk8eaXI8AWmn1ejwxIyRHX9nlmrx4pk0dvJVrRSRv3aW1\n",
              "I6rzx4DHMCqcp3/e2Bt4y7Zqf/ER/4PWP/yGuYFWNKoPXoW/dK7yi1jBdpKj1Np7zXSsk/gnmdh3\n",
              "4gIMIJqQq8vxLIqUNdgf5k+2ub6MFElHKIsut13UXw+NZEPc5TEHDCLbTjiJ5UO6JLQMb1pF9vxE\n",
              "SWaf9QfqjFGbNdaeIa2Vvk6K6l+1gEvwQ51riPUNQ/xDXdIboH+bvuEe1owK2qK5prGg7jwLY657\n",
              "TEqCE4EmmjMpa79K0LNE0YUFdiLLEUuTpmXqryFwhsurqRkKWPwwmQoitsNYdSStg8kUS0eQDyPd\n",
              "RlFqHHQaAwHiIjZ1JICEYChOmbQTGGs7AeWmY9PRdldpMSfiI+2LWGunmj/1vmb1fToq4b81ist2\n",
              "ljC3Ib5vxvhhn+Q+u7QzdqxwqLdgIHevzwiLedCJwPkuV9FM1MnfYWSOL49jHzWdzcgYU/MtMeDz\n",
              "RiDfTqV2MaDDA+NEaZMT+DriLKSTOCQ0OOOiYvn7V+m2jJi1JZbVyC7/kRO3/xjlFGz1UEBYTus3\n",
              "Qrm/iijc02oy7svHXuTty2+D0Z7HcU4j//9YHC/OhoA/xxgDesnyC9xmz9wmo1VDnuLppp6fI2Wk\n",
              "9CT5aSR5A2JT2xrHYlGhjwTf+TTvLsx/E0p4VTA165Ah4XUDlUcnek2uHE6hl7anJGUKYNzkHiQD\n",
              "fJq11jAc93tVgzQ9aynJWosp8v18YO5E0NwSvOXwnd4SXdX/k6ZUJLtgfTTPz44/DpPG4ZpfZUyP\n",
              "Pwjbinb1p0J2zGsrhqe1YXiSiXsl5GpjaW4WPC9soX+FJK+03OH/IBQJzx8a6i3bdJG83LiNSme4\n",
              "luhdVx+Yxifsda2FbMXl264I9yB/rD1s6GFqIhrl2xRxW2FSix/8PtgvJ1UZgu8xC/jQAbFSD8Ew\n",
              "pWVmg+Xv1ekxn1hZzxKcgQe/0jDJBRCxb3ic53N8rwyCvny2NI7OrCyu78RuOI/7287UKGL3q/QO\n",
              "xvxp99SavzXcpmalY96Ohl/lThbgK4CTMkPg/hPpjhOMB0Gue6Xru8sG8Yqh1co/u3+7mB9SKosx\n",
              "pqhbNnxGYN1B7VgO+M1mhmuH/aOjpU9VWubDE+sOp3y3UwG/SQ9NHoGYBjAXcoCw5Q768n16TZPv\n",
              "/zgqfQAaIxqiizcOyJxRCo3MsuE39vbUKFPDpSwIr4eca1xZfRltXwVdWuiQSB98ki7RvqHZAJ8r\n",
              "a2OPuLHB9euyqRGFRet/gZUJbLjR891alVceASDMoj6QYudy3/5mqBbfQzU6O7Q64yqIe5HsMd+o\n",
              "i3n/iNz25g6aZBKjANSGmksI+X8Yvx5ZW29+NmLA1KuFFltYsyUrp/d6J6c3p0mFqY6nx89T5txG\n",
              "PKAMhLAxXEiZnoMdEL/d3hCWc3RmWUu4erYMEjpZC2Hm5GQJYJMj+cDd3eF4oxAR/vP88OfCrZ77\n",
              "DyzxWl9BpOKEASw8H1AJLStn+NA0G5aHmDm+6zmibT6EQ1XjC1TjWQfR7cLqjrg0uCnRht45AZbV\n",
              "hF5ZHBPXVZCTQZ4KM56U8PloQHO+gPQgsSFul1lWVrZ8B9z/6YyplJyskRiy7ukSDuNeWKtfMVLR\n",
              "ZfGjuwokHh+TP6n+l7t7f3CZFl9v6C4KHc5E/eFbYbEzcZUdytevI7T/WRxZChZ4qiUnNMjqklty\n",
              "RowWFsXYrP/Poi3a1cLCyhdoTwXIVe6YKZmkvVzRjxgKJci7sGa0x1iWS/NsAszBe9OPjED2SlkQ\n",
              "Z12EhDId6aXBibR/9F8+JeDUGEMdKfB7sj/B6po73tDFceLORsTN5+yAaUk3QdVeVaU3SW9EVXI+\n",
              "NtbsSw58Rk6ex0Oa0esD/9ARfL4RA2JiyTqXnlotHls9DE0LxcOh84yvkBTOULagjsxHAY/FGeNw\n",
              "+r+6+xv0KHSRteHHsFyb34hQh7rxv3ISlQdQUrIryngbWx0n25lLRz0V0kgrXUtH4MldB9THgbTQ\n",
              "PzO34cf8sC+1AtrD31nvWaUhW5Il1CnTIos7AaXjzvE6pOkJqHKTGmwvEop3wEaKD9QcHoWZKl34\n",
              "VXiTipv/lecqEQr+1WvW2wPB4STJ2sBNhD8F4ynJKtZ/sTQkAvd1SlrqGVAcXWPXYWtpub5lS5r3\n",
              "3cfqUlVXi3l4Jzk1u5WlEjDtW4CGGyVXVYeDheVjEvncKeA2AXKF7cgXdm7lcMS8Na5Fvng89enM\n",
              "8m/tJy7s05wjt+QiO/vj0PVyxCoTv96ey/PASt1C3JiDz2f2pH2PQLbDclhhgeOQxgwERTZQMFVs\n",
              "wbbppHP4GBa+b9amsCIleIhauwli3Z2QCaTHTJd5xGDZpZAmKxdW3cfino2Ep+OHZecIknmgtYDH\n",
              "M7FMK4YeT+H7sAgRhydm4Go6qNtJh+BGnZvZBmTSv8oVyA5v/yEe63rSa3bHrqGy/OVuNDG5UxJ6\n",
              "zQVSJcrmZkRYJ5JY2Q4a6FzyKAQId8td2KwNh/5XMVXmNQ0oUj8tYcutJAHqEOYAFLZQn2SImBne\n",
              "1NXwbb2y2K4G+5rWbm3eNaucKM0RRgh2/7hjzxJMvUOLzKrNf4vJh0TuejYonKCrdCTDbplP+uYq\n",
              "tZkZhD8NGE44JN2IWAdC5z7+rSRn3mFiEpOMc4nImVN9C8sVyoctJKso/2xvZAJk26Raaiezgq0n\n",
              "rNGcaKDaiggTxRSTBVZqrDDmTDpRJxrQ6CW/EP+4K4L/L0Egk4V8Y/hfqKTdCvo3RiYm1qJTH69R\n",
              "wl5v0x/W9M3MEt5qE0StfolCxSJH9EMmDISBYY8ydzjuCCtSYfuy1T9yr2RZ61/m5GaQ/SpPBIea\n",
              "f7UW012WoeBUcjGlkj02Y6vCwbvWIBOWrXQpKL0YbTHPZMBhp+nRrlojSqXjg5kT86NH8xJw9apI\n",
              "HxQ/RlJmAct3VLr8+HP0xdXP9peJDOEJgKXd/9lCU4mcZlcLjQGtevChNqA6ICplUJlstGwtojSH\n",
              "A/+Rk/hhW/F3wrByqCzHtIemVk3goho5u8omezRnCWLo6dr9s9J6qMFrQx8hP2nqHTYqY3T1EO1T\n",
              "6lVQbqiFNlVRydS7tX1ROain5g2JdC4/YmlFas70MbdPe4ajqicOK6ujQijEWxTvI7W69K4s6CT2\n",
              "wOPJXOWdIW/N8hoTknu0mS5sQF1GH0ExJqiOOK6aRZwFmV3sTMCQrJYs3tvPp0TXhe7OzGsaXWXZ\n",
              "E5qqY0v7RBpa4rvDIrYLqjDBWaybuHKKPegakm2nZyvYmjDaMAClOJts9kfWzzWe4KjR3uAr1Bzg\n",
              "seIlZJ0EztR4gs0W7A6uZUk/xdnZuqtlV5aGVJvshMrghl9v+MRKnUk2hdIOLMbReVYbTW8/BsB1\n",
              "qEGLV2BDPUlv4NB/ho/kVYikcTDC83Taz6LoIJ3z5UEjbqQRLKVfNZZlDDsEElzNOOc9QEMCgwqL\n",
              "8Vt9tLJTleyoDtKzAIVfE30iJrNiBT21wN6Ufde3kdeDNuAZnI0dhGWd5w2+iZ94+iXLTMLF/tFU\n",
              "Zpe0NOtWfB1qVFbcknAbC4DzsSGP+T+4MK714ofB9a/G+FCUsjWFKo/cMfbRwxVQbJmmu44u4Srf\n",
              "dKvuuJzT56xLC16Yq5XFnS+R7HOgO1J5y/ofcmYeIv8Umtt+dzrvew1IT8WkvHkq0enVz7GuWElt\n",
              "YpmPxNImb5yEGzn7161OUUid5Z7vYzKjj1k6c38n2ZSTA5luaSjwypxIFfQHPpJ6FsBMjyMG6WvX\n",
              "vLCX7WOBGLyMVj8IBG/fQVxHGUKihWok9meZzihEfOVVYPftffnV0qsFIDopW1qB6pB5A6R3pvkz\n",
              "JhaXH5+x1g2dBcz7lE0ahmFxAGZOHhWFjPClctQmz0yx9qjf+0jYKO1EohUS+sVetcXoekdLqe/g\n",
              "vymWIonLwC8Dx/nnjqGYsYwhGgmS+2tRMHISscRHgNX1upzt2YH9A00wbCwTkvA+6fPKsCtmrwAH\n",
              "B0jhLvt+ZVmD9J+aGeDkHi4Fdq+peYMf1kzFjCJXYAEBc6ZsWoeAAAADAjMAAAFtQZohbEL//oyw\n",
              "AylXBIxfuZPVabz8rJqSgGeX9/EuSYCjE1GrK1yIiR4JX91yNpAwst4r5ysMd2+5oqrymVUNEwqD\n",
              "86RL1truRp2wkGnrs0jvuToJtP/AVvJQBiFEgLDZOeVrungHAeByU9bPm+oyOAVhkXZAgLt0oupU\n",
              "G3Sk76+vRKhpQPfqLavIAehQy/laia1U+JpavdKp6hHUw2gAXnferAkGQaD+a1EnN4wgpkHde1pF\n",
              "0iyFr5Onm73mX6N94VBooJfbpFdRLyhprDQIoNUCoKaFW/KqBhZE30Bz5VcGssqvwcuQ9Zjn1n9f\n",
              "2Z7f838gTOF14Py7Df4vyI0rTOoC6skEAyG223r8dQkkKjzs2lGiN7CX0GywEQ3Sgurqg7mCNw1Y\n",
              "ZH5hISFj6nPCdJ1VQRxIuNUzr21Q7djP3X7dyt28WMtObNy576dBYJKmRDB++n1H+B2RH5luO49y\n",
              "4maFBbcO/VNEw/+wqoAAAADBQZpEPCGTKYQr//44QAYdhICGf3HGjblVQ4Jmjt8D55c4eTA3Ipy8\n",
              "RO9zdyTQNSofSAVWPvWGT9gR5iQhMwnbxLiv3Vv1KxMlhsyCjnu7ZDzyZxmrJNfLA24bN5lAG8e1\n",
              "UyoKHC48F0GlFRo/pSnWWSkgBvfE7/1x9yU0OhAA/ruDZS/ojPV1xtkXwtk5acfQFbM55BKYViyv\n",
              "zVMk8TXLH6XJXrZdHCmC/3nEuR2aDcnLJjc4534HS7//gsZDYgl3wQAAABxBnmJqU8I/AJEoqIuw\n",
              "KYDSgafI4xKnbT8WPyoQAAAAIAGeg2pH/wDoQADAPF4HNdV0dACY+4KnBIypHvHJ1WPhAAAAj0Ga\n",
              "hUmoQWiZTAhf//6MsABlHVBEYh8UkEBgTUhrE0YGo5AMdi49A9ZQu3rWkz2gbuWlPOmjLOU5eeph\n",
              "3+G/NdhwENAs3ySGlgolwfhGZXRhpxxF17JaXtl8JHBq5qtIfsbQKX+eYsBQoxtUL3Mtl0TN9T9W\n",
              "RTnrWUT/b8C8a33Zj0FY8z4h1c40CuDstTNJAAAAkkGap0nhClJlMFESwv/+jLAAZR1QRHJdlJFa\n",
              "IAFkCFlKEVmrh8fSQLSy68Jfs+qBubEdA2ohoj11+mBbTZ+0VYtGKq2w3KACtX6VIQjSJPgyaRWN\n",
              "mkLOphZKoi9b9ccqUyfHEdqTgClUmAtMoEyaZucxtyTUqIFp9mUv479OHgXgROWOiFoBReASCth0\n",
              "dk7aBypHAAAAFQGexmpH/wAAzklS2SVQAWta2z/EcQAAALdBmspJ4Q6JlMCF//6MsABlHVBEYh8U\n",
              "kEBgAWTZfs4AezoVr0JjwOz68k68PXsjyWR8M8OSSf6UgMo0+8+8Ld1MU+pLKsIY/RbjwN+anGvO\n",
              "7qGuMKqZhP3PN91krO0+6vsR9GLx9iUynA0mE23HQ/ctXOSHdLgR8H1f1mjHrpNRmBNqTODDtkpl\n",
              "faOZGE2XVExRxM/SMEDlEszKHhH85Qy9a8W5RStLqmoG/zpN6f9ZA/BfE8+d9OMAAAAfQZ7oRRU8\n",
              "I/8AAPNEkoybw5ADaEf3npppXqfnk/8DxAAAABkBnwlqR/8AAYV0GlIABAApHRnFG78W0q1dAAAA\n",
              "u0GbDUmoQWiZTAhf//6MsABlHVBEcl2UkVogAWQIdbxv58vD0OTi1tlK1cu0oLX2qsX4C0BDtRe5\n",
              "0hXYK68BXxeRYSX/6+NIGNNOG9G6q8hyC48nn7UTvrvyfNCAksSDFrIdj+x3U1RbYgF9e3rtwgEo\n",
              "GtBF3r236nuvxsKhi1pkzIusszKjbbBixsX0pJlvtEDSHZ4T0UpJ09+AmEXx7gqroVp+Oecimuaq\n",
              "A19YNc/5BDNb0FjjK7eTgzAAAAAdQZ8rRREsI/8AAdtUC2B4v4AAXFzNFG43Kai221YAAAAXAZ9M\n",
              "akf/AAL5ixO97GQBvOaJLOv1wUUAAAB8QZtPSahBbJlMFEwv//6MsABlHVBEYh8UkEBgAWTZw9Jn\n",
              "RuoErO3KgiFHn5LP0SwWZeU7iQjhFSmgDUA4v3PxYqeJqqiQiNOtuqA0+J3xpsDzmMP3Bpomwa/1\n",
              "ifBvf5tMIwxEQolfaXAvvfMlosn00KDGK0NsThIwNNTpgQAAABcBn25qR/8ABfpPE78ABtnniyLA\n",
              "tJyXgQAAAIJBm3NJ4QpSZTAhf/6MsABlHVBEcl2UkVogAWQIpBy954gUYTlkkbfMNersZB/+6w5z\n",
              "qIbzcqarKaYVZifvT2YYrYMr/iseJMb4I5WowK3rIPSW3KX2V5pSr2qKchU9vcaP4zyvwNbiC3O7\n",
              "HmfpqtItDUWnGIiM7V2wOlolTqiDMG0WAAAAEkGfkUU0TCP/AAO1/vLktSdHswAAABoBn7B0R/8A\n",
              "BeQGCcsCfsQAjAUfmm58bKfw2QAAABEBn7JqR/8ABc5vc9U7LzRrzAAAAKNBm7ZJqEFomUwIX//+\n",
              "jLAAZR1QRGIfFJBAYAFk3Hom+pQlvYj4HOYsc/BPZKOGrci2TO6JHZY8G4Ppl8KczIOFTdqFyy7R\n",
              "ESjr6S3KKBe5KJcELEDua6LZuze29eyGbrhbIAWymB+6k5wJpH0ZwoBFH2zMhcyetw0ryEg36w3Z\n",
              "NmdVzqBjE4MZE08UN5wtlGUV/c++UyvS49uIafBrHTUcRJ0wAAAAIEGf1EURLCP/AAdCHyFwHEAB\n",
              "apUPbQ0VfcJE+aAXYvNNAAAAGgGf9WpH/wALomnthxTYdAG1sMkWrR3DN9z1AAAAckGb+EmoQWyZ\n",
              "TBRML//+jLAAZR1QRHJdlJFaIAFkCwrL1Y62jaJG7WwnlIQekC0BSrpJTypiBXApIunm9JvAgIDF\n",
              "fveqAI6CmWDMLso96QwFF+SNU8ks58J+67ndM6ETpVYkl0aSuLJaEQUBAPswU4Pl8QAAABoBnhdq\n",
              "R/8AC0ponhgBoQ58+Fd7atD6JTzKgQAAAERBmhlJ4QpSZTAhf/6MsAF2xUEjFo1VyeoTmVIk7j6P\n",
              "fodIEYReBzTLY1gjlVzmaQCuiyOzsNQ2xGqdLxGFRJIOfubjgAAAAHZBmj1J4Q6JlMCF//6MsAF2\n",
              "xUEQjQRkEw/M5qG87G/yif51bImEZGEKUHs/xAqqKrJy4+DEdZJZouh6Z6dNPjvvuE+SsSZ7j63I\n",
              "dJw73FUpKvcH3+S41yizi9vHrraRhGw9KkG1aC9nd3kMvc4vrU4H7iowZVtBAAAAHEGeW0URPCP/\n",
              "AA3Uxxa6zABZEKQW/juzktEOUKAAAAAYAZ56dEf/AAsecYAFaBBayBeafivo23tHAAAAGgGefGpH\n",
              "/wAWFCabABf3dtBEzxo+nDpT2P2BAAAAcUGaYEmoQWiZTAhf//6MsABlHVBEYh8UkEBrVuwkO5Mf\n",
              "2M0/LEj+oZQuzjT8Gsq1uzykJRsEIy5+KzNEzKGlOr26tzyIJBMlqX4pfjkAY4H25fBIpfCtgVFY\n",
              "yWwUMtpGL5rgDo0CpA5p80DhuGaxj+pAAAAAHkGenkURLCP/AA4n/G16AFWyE2IsglEXssKGFPmx\n",
              "gAAAABsBnr9qR/8AFg4PjMACwHSbNNWL1zYK2NX3ftEAAAA5QZqiSahBbJlMFEwv//6MsAF2xUEj\n",
              "Fn5SSK+PPE8rMLZ3qcGSCzAnPQvCID505vJJjDADNrXDL5eAAAAADQGewWpH/wAWGXgMU0MAAABR\n",
              "QZrGSeEKUmUwIX/+jLABdsVBEI0EZBMPzOahvMIQkZ9+fpbcH999d6/tvX6brknspUgSyR1CUrrB\n",
              "qsEgx95OAFlMfpu3yApZagMBBDIXWmFAAAAAGUGe5EU0TCP/AA3KEXRADaN+6t0YqfQfdq0AAAAN\n",
              "AZ8DdEf/ABYUFRURcQAAAAsBnwVqR/8AAAMDuwAAAFFBmwhJqEFomUwU8M/+nhABc8T1DqXa3/t6\n",
              "hOZ0kJzI8rthld3hhgDXgqad3Wh9C0eRkLK5sdLmJBRcrafUl4UuK4hIFI10fAyI+9Cg5Z5DwicA\n",
              "AAAOAZ8nakf/ABYswmBgjYAAAABBQZssSeEKUmUwIX/+jLABdsVBEI0EZBMPzOahvJqng4tOah0I\n",
              "WE09cGmktEBQONcd6VWMupKSvkbjwAE8E/57IiYAAAAeQZ9KRTRMI/8ADd24oAbo+DJK67oBTV7J\n",
              "xDFrTY7tAAAADQGfaXRH/wAAB6/c+WgAAAANAZ9rakf/AAAHr9z5aAAAAEhBm29JqEFomUwIZ//+\n",
              "nhABc8T1DqXa3/t6zkhwZqo9p+Vbb7N5QiA2MITe0mJERLpGfhdgvwVAAxMDhWdoTxOc5dew1nI3\n",
              "jAkAAAAaQZ+NRREsI/8ADdFH8uAA0c557bToUwNLMDEAAAAQAZ+uakf/ACtED9YSy8DXRQAAAE9B\n",
              "m7NJqEFsmUwIZ//+nhABc8T1B2yNb/4IC7y2sQxjt+3p5MG/0nHAll5eHcl/RvG5BUYzm6XX0UKy\n",
              "dX/lLGz5bGBC1XMVDo5g/A2woIu4AAAAHUGf0UUVLCP/ABsCnU4bAE8sg8td4/oI4WMNLKlAAAAA\n",
              "DwGf8HRH/wAVkXIrcaxezQAAAA8Bn/JqR/8AFZzWEwzW3swAAABDQZv3SahBbJlMCF///oywAGUd\n",
              "UERiIeB8R23vtSeDTw7+xjdrhMZ8/rowztbRZ/+GgrsO9o2MGmUuVPHhIyFsp4OjFgAAABNBnhVF\n",
              "FSwj/wAbCY9fs0WBNE2BAAAADAGeNHRH/wAAB8IqrQAAABUBnjZqR/8AK1bigAnZmXg9kmjNAncA\n",
              "AABUQZo7SahBbJlMCF///oywAGUdUERyXZSRWiinVnl98t2SrkVJKceSBH/qCfckqV4HZ5udD64A\n",
              "82ZuvUbFJMWT3SDyFcj9HSBdSz+kgz/MpCH86VKnAAAAIEGeWUUVLCP/AA2NzRACuoj8PVgoGbMc\n",
              "Ff0IbYVTD5tAAAAAGgGeeHRH/wAVkorwAWtYVpiB9vEzGEuhPZBZAAAAGQGeempH/wAVltvgAsPH\n",
              "fUTuMpQCSBWLrpMAAAA0QZp9SahBbJlMFEwz//6eEAFzxPUOpdrf+3qE5nSPpSxjshIXaa3+5NCz\n",
              "XFjBzRlvTMoHTQAAAAsBnpxqR/8AAAMDuwAAAGtBmoFJ4QpSZTAhn/6eEAGldPUHbPNu5JWoPXP0\n",
              "t7ZqTLGdZ52ps0/FxIVSGXmScJi0Grw5q1KqavsOE9gud2IlJFeWe0D6+tLo+9zvWWbmMI5YYTd4\n",
              "MNVTEYBf2O0K9aZsN7y6WCr6HyBFwAAAABpBnr9FNEwj/wANgoUmAFrdJk2Bn+IsXhNhuwAAABgB\n",
              "nt50R/8AFZMJ7ABcTyzhxO+Jhx91umEAAAAPAZ7Aakf/ABWVACYbWL2YAAAARUGaxUmoQWiZTAhn\n",
              "//6eEAMe6eoQEvCnbQuNYKBtYqbhuiDhP0OMXNODefL/Vb4ZOfNLGyiVXwXN7vJfN0HtjShjKqDv\n",
              "wQAAABJBnuNFESwj/wAbApvJQK8nR0UAAAAMAZ8CdEf/AAAHwiqtAAAADgGfBGpH/wAVlQAmLnHt\n",
              "AAAAOEGbCUmoQWyZTAhf//6MsAMo6oIjEOfzrlT7AqeLwmtDb2wm3npJ+wm9T3ysEUmTb3cl92nw\n",
              "oo+7AAAAEUGfJ0UVLCP/AA00x/zkdVUxAAAADAGfRnRH/wAAB8IqrQAAAA4Bn0hqR/8AFQzWEysM\n",
              "kwAAAGlBm01JqEFsmUwIX//+jLAAZR1QQkZoqL8gS9NqTQJx/zIDGdDmXHhdbjpQ1ZSxGiMLOVpZ\n",
              "OiinH17VgaCc87PX6tXH2PPl92FX0qJ0rET8yRWPZ1sAwIkUt0I+tUjTLmnavfwJb7nRjYEAAAAa\n",
              "QZ9rRRUsI/8AGhWlPAC3AlPIPTmX2kRZ72AAAAARAZ+KdEf/ACoeeu+cCzubdFAAAAAYAZ+Makf/\n",
              "ACoaeiAC6BUH2PBm8RkMPwANAAAAMkGbj0moQWyZTBRMM//+nhAAUbNB4AiQ3gtQ/+LRdih7kOas\n",
              "yrMLHeatblaBkwXiwMWBAAAAEgGfrmpH/wAqMxwAJB8M3zBRtQAAADFBm7NJ4QpSZTAhf/6MsABS\n",
              "WUZQhtbkOFM+dIIAccK5JAR6/UmuL+6PX6xHWfFIhgz4AAAAFkGf0UU0TCP/ADTTFsNTijpyxHnn\n",
              "OigAAAAOAZ/wdEf/ACoC5FOOpe0AAAAOAZ/yakf/AFQzWEMrDJMAAABEQZv3SahBaJlMCF///oyw\n",
              "AFJZi+tQAIH92TRpg/nDY/K96L2fLv+CSCeij9hf/cfTNUhAn/z8VY8M8F1AqGfL2jdA7oAAAAAc\n",
              "QZ4VRREsI/8ANNu+jc1SACcHxeaKRUcFsAlCgQAAABgBnjR0R/8AVAWtvDEgAmVnscLcFoRHAJQA\n",
              "AAAQAZ42akf/AFQzUCMTQwNdFQAAADdBmjtJqEFsmUwIX//+jLAAUnLu2AG5q0fZC1Vw/q31Jj/+\n",
              "DSiVZaT6u9S/ypL1f8Gf1tHVmEXBAAAAEkGeWUUVLCP/ADQ/eYiMiUwIwAAAAA4Bnnh0R/8AVAXI\n",
              "o46l7QAAAA4BnnpqR/8AVDNYQysMkwAAACVBmn9JqEFsmUwIV//+OEABPbiWcANxEJbolTJaJAOQ\n",
              "raz8cHtBAAAAEkGenUUVLCP/ADTbv7LZkiMxtwAAAA4Bnrx0R/8AVAXIo46l7QAAABABnr5qR/8A\n",
              "VDNTnhkh1L2AAAAAH0Gao0moQWyZTAj//IQAEs3+AATCRXjcuDG9X5D4DukAAAASQZ7BRRUsI/8A\n",
              "NNu/M2xIjMbYAAAADgGe4HRH/wBUBcijjqXtAAAADgGe4mpH/wBUM1hDKwyTAAAHpm1vb3YAAABs\n",
              "bXZoZAAAAAAAAAAAAAAAAAAAA+gAAAfQAAEAAAEAAAAAAAAAAAAAAAABAAAAAAAAAAAAAAAAAAAA\n",
              "AQAAAAAAAAAAAAAAAAAAQAAAAAAAAAAAAAAAAAAAAAAAAAAAAAAAAAAAAAAAAAIAAAbQdHJhawAA\n",
              "AFx0a2hkAAAAAwAAAAAAAAAAAAAAAQAAAAAAAAfQAAAAAAAAAAAAAAAAAAAAAAABAAAAAAAAAAAA\n",
              "AAAAAAAAAQAAAAAAAAAAAAAAAAAAQAAAAAGwAAABIAAAAAAAJGVkdHMAAAAcZWxzdAAAAAAAAAAB\n",
              "AAAH0AAAAgAAAQAAAAAGSG1kaWEAAAAgbWRoZAAAAAAAAAAAAAAAAAAAMgAAAGQAVcQAAAAAAC1o\n",
              "ZGxyAAAAAAAAAAB2aWRlAAAAAAAAAAAAAAAAVmlkZW9IYW5kbGVyAAAABfNtaW5mAAAAFHZtaGQA\n",
              "AAABAAAAAAAAAAAAAAAkZGluZgAAABxkcmVmAAAAAAAAAAEAAAAMdXJsIAAAAAEAAAWzc3RibAAA\n",
              "ALNzdHNkAAAAAAAAAAEAAACjYXZjMQAAAAAAAAABAAAAAAAAAAAAAAAAAAAAAAGwASAASAAAAEgA\n",
              "AAAAAAAAAQAAAAAAAAAAAAAAAAAAAAAAAAAAAAAAAAAAAAAAAAAAABj//wAAADFhdmNDAWQAHv/h\n",
              "ABhnZAAerNlBsJaEAAADAAQAAAMBkDxYtlgBAAZo6+PLIsAAAAAcdXVpZGtoQPJfJE/FujmlG88D\n",
              "I/MAAAAAAAAAGHN0dHMAAAAAAAAAAQAAAGQAAAEAAAAAFHN0c3MAAAAAAAAAAQAAAAEAAAL4Y3R0\n",
              "cwAAAAAAAABdAAAAAgAAAgAAAAABAAAEAAAAAAIAAAEAAAAAAQAAAgAAAAABAAADAAAAAAEAAAEA\n",
              "AAAAAQAABAAAAAACAAABAAAAAAEAAAQAAAAAAgAAAQAAAAABAAADAAAAAAEAAAEAAAAAAQAABQAA\n",
              "AAABAAACAAAAAAEAAAAAAAAAAQAAAQAAAAABAAAEAAAAAAIAAAEAAAAAAQAAAwAAAAABAAABAAAA\n",
              "AAEAAAIAAAAAAQAABQAAAAABAAACAAAAAAEAAAAAAAAAAQAAAQAAAAABAAAEAAAAAAIAAAEAAAAA\n",
              "AQAAAwAAAAABAAABAAAAAAEAAAUAAAAAAQAAAgAAAAABAAAAAAAAAAEAAAEAAAAAAQAAAwAAAAAB\n",
              "AAABAAAAAAEAAAUAAAAAAQAAAgAAAAABAAAAAAAAAAEAAAEAAAAAAQAABAAAAAACAAABAAAAAAEA\n",
              "AAUAAAAAAQAAAgAAAAABAAAAAAAAAAEAAAEAAAAAAQAABQAAAAABAAACAAAAAAEAAAAAAAAAAQAA\n",
              "AQAAAAABAAAFAAAAAAEAAAIAAAAAAQAAAAAAAAABAAABAAAAAAEAAAMAAAAAAQAAAQAAAAABAAAF\n",
              "AAAAAAEAAAIAAAAAAQAAAAAAAAABAAABAAAAAAEAAAUAAAAAAQAAAgAAAAABAAAAAAAAAAEAAAEA\n",
              "AAAAAQAABQAAAAABAAACAAAAAAEAAAAAAAAAAQAAAQAAAAABAAAFAAAAAAEAAAIAAAAAAQAAAAAA\n",
              "AAABAAABAAAAAAEAAAMAAAAAAQAAAQAAAAABAAAFAAAAAAEAAAIAAAAAAQAAAAAAAAABAAABAAAA\n",
              "AAEAAAUAAAAAAQAAAgAAAAABAAAAAAAAAAEAAAEAAAAAAQAABQAAAAABAAACAAAAAAEAAAAAAAAA\n",
              "AQAAAQAAAAABAAAFAAAAAAEAAAIAAAAAAQAAAAAAAAABAAABAAAAAAEAAAUAAAAAAQAAAgAAAAAB\n",
              "AAAAAAAAAAEAAAEAAAAAHHN0c2MAAAAAAAAAAQAAAAEAAABkAAAAAQAAAaRzdHN6AAAAAAAAAAAA\n",
              "AABkAAAjoAAAAXEAAADFAAAAIAAAACQAAACTAAAAlgAAABkAAAC7AAAAIwAAAB0AAAC/AAAAIQAA\n",
              "ABsAAACAAAAAGwAAAIYAAAAWAAAAHgAAABUAAACnAAAAJAAAAB4AAAB2AAAAHgAAAEgAAAB6AAAA\n",
              "IAAAABwAAAAeAAAAdQAAACIAAAAfAAAAPQAAABEAAABVAAAAHQAAABEAAAAPAAAAVQAAABIAAABF\n",
              "AAAAIgAAABEAAAARAAAATAAAAB4AAAAUAAAAUwAAACEAAAATAAAAEwAAAEcAAAAXAAAAEAAAABkA\n",
              "AABYAAAAJAAAAB4AAAAdAAAAOAAAAA8AAABvAAAAHgAAABwAAAATAAAASQAAABYAAAAQAAAAEgAA\n",
              "ADwAAAAVAAAAEAAAABIAAABtAAAAHgAAABUAAAAcAAAANgAAABYAAAA1AAAAGgAAABIAAAASAAAA\n",
              "SAAAACAAAAAcAAAAFAAAADsAAAAWAAAAEgAAABIAAAApAAAAFgAAABIAAAAUAAAAIwAAABYAAAAS\n",
              "AAAAEgAAABRzdGNvAAAAAAAAAAEAAAAsAAAAYnVkdGEAAABabWV0YQAAAAAAAAAhaGRscgAAAAAA\n",
              "AAAAbWRpcmFwcGwAAAAAAAAAAAAAAAAtaWxzdAAAACWpdG9vAAAAHWRhdGEAAAABAAAAAExhdmY1\n",
              "Ny44My4xMDA=\n",
              "\">\n",
              "  Your browser does not support the video tag.\n",
              "</video>"
            ]
          },
          "metadata": {
            "tags": []
          }
        }
      ]
    },
    {
      "metadata": {
        "id": "x-T5oXI_xJ_e",
        "colab_type": "code",
        "colab": {}
      },
      "cell_type": "code",
      "source": [
        ""
      ],
      "execution_count": 0,
      "outputs": []
    }
  ]
}